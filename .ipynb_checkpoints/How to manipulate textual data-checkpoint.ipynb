{
 "cells": [
  {
   "cell_type": "code",
   "execution_count": 1,
   "id": "f0155a4c",
   "metadata": {},
   "outputs": [],
   "source": [
    "import pandas as pd"
   ]
  },
  {
   "cell_type": "markdown",
   "id": "ab8456ea",
   "metadata": {},
   "source": [
    "Data used for this tutorial:\n",
    "\n",
    "<b> Titanic data</b>\n",
    "\n",
    "<!-- This tutorial uses the Titanic data set, stored as CSV. The data consists of the following data columns:\n",
    "\n",
    "* PassengerId: Id of every passenger.\n",
    "* Survived: This feature have value 0 and 1. 0 for not survived and 1 for survived.\n",
    "* Pclass: There are 3 classes: Class 1, Class 2 and Class 3.\n",
    "* Name: Name of passenger.\n",
    "* Sex: Gender of passenger.\n",
    "* Age: Age of passenger.\n",
    "* SibSp: Indication that passenger have siblings and spouse.\n",
    "* Parch: Whether a passenger is alone or have family.\n",
    "* Ticket: Ticket number of passenger.\n",
    "* Fare: Indicating the fare.\n",
    "* Cabin: The cabin of passenger.\n",
    "* Embarked: The embarked category.\n",
    "\n",
    "To raw data : https://github.com/pandas-dev/pandas/tree/master/doc/data\n",
    "\n",
    "--->"
   ]
  },
  {
   "cell_type": "code",
   "execution_count": 2,
   "id": "2b243fb2",
   "metadata": {},
   "outputs": [],
   "source": [
    "titanic = pd.read_csv(\"data/titanic.csv\")"
   ]
  },
  {
   "cell_type": "code",
   "execution_count": 3,
   "id": "57bd683a",
   "metadata": {},
   "outputs": [
    {
     "data": {
      "text/html": [
       "<div>\n",
       "<style scoped>\n",
       "    .dataframe tbody tr th:only-of-type {\n",
       "        vertical-align: middle;\n",
       "    }\n",
       "\n",
       "    .dataframe tbody tr th {\n",
       "        vertical-align: top;\n",
       "    }\n",
       "\n",
       "    .dataframe thead th {\n",
       "        text-align: right;\n",
       "    }\n",
       "</style>\n",
       "<table border=\"1\" class=\"dataframe\">\n",
       "  <thead>\n",
       "    <tr style=\"text-align: right;\">\n",
       "      <th></th>\n",
       "      <th>PassengerId</th>\n",
       "      <th>Survived</th>\n",
       "      <th>Pclass</th>\n",
       "      <th>Name</th>\n",
       "      <th>Sex</th>\n",
       "      <th>Age</th>\n",
       "      <th>SibSp</th>\n",
       "      <th>Parch</th>\n",
       "      <th>Ticket</th>\n",
       "      <th>Fare</th>\n",
       "      <th>Cabin</th>\n",
       "      <th>Embarked</th>\n",
       "    </tr>\n",
       "  </thead>\n",
       "  <tbody>\n",
       "    <tr>\n",
       "      <th>0</th>\n",
       "      <td>1</td>\n",
       "      <td>0</td>\n",
       "      <td>3</td>\n",
       "      <td>Braund, Mr. Owen Harris</td>\n",
       "      <td>male</td>\n",
       "      <td>22.0</td>\n",
       "      <td>1</td>\n",
       "      <td>0</td>\n",
       "      <td>A/5 21171</td>\n",
       "      <td>7.2500</td>\n",
       "      <td>NaN</td>\n",
       "      <td>S</td>\n",
       "    </tr>\n",
       "    <tr>\n",
       "      <th>1</th>\n",
       "      <td>2</td>\n",
       "      <td>1</td>\n",
       "      <td>1</td>\n",
       "      <td>Cumings, Mrs. John Bradley (Florence Briggs Th...</td>\n",
       "      <td>female</td>\n",
       "      <td>38.0</td>\n",
       "      <td>1</td>\n",
       "      <td>0</td>\n",
       "      <td>PC 17599</td>\n",
       "      <td>71.2833</td>\n",
       "      <td>C85</td>\n",
       "      <td>C</td>\n",
       "    </tr>\n",
       "    <tr>\n",
       "      <th>2</th>\n",
       "      <td>3</td>\n",
       "      <td>1</td>\n",
       "      <td>3</td>\n",
       "      <td>Heikkinen, Miss. Laina</td>\n",
       "      <td>female</td>\n",
       "      <td>26.0</td>\n",
       "      <td>0</td>\n",
       "      <td>0</td>\n",
       "      <td>STON/O2. 3101282</td>\n",
       "      <td>7.9250</td>\n",
       "      <td>NaN</td>\n",
       "      <td>S</td>\n",
       "    </tr>\n",
       "    <tr>\n",
       "      <th>3</th>\n",
       "      <td>4</td>\n",
       "      <td>1</td>\n",
       "      <td>1</td>\n",
       "      <td>Futrelle, Mrs. Jacques Heath (Lily May Peel)</td>\n",
       "      <td>female</td>\n",
       "      <td>35.0</td>\n",
       "      <td>1</td>\n",
       "      <td>0</td>\n",
       "      <td>113803</td>\n",
       "      <td>53.1000</td>\n",
       "      <td>C123</td>\n",
       "      <td>S</td>\n",
       "    </tr>\n",
       "    <tr>\n",
       "      <th>4</th>\n",
       "      <td>5</td>\n",
       "      <td>0</td>\n",
       "      <td>3</td>\n",
       "      <td>Allen, Mr. William Henry</td>\n",
       "      <td>male</td>\n",
       "      <td>35.0</td>\n",
       "      <td>0</td>\n",
       "      <td>0</td>\n",
       "      <td>373450</td>\n",
       "      <td>8.0500</td>\n",
       "      <td>NaN</td>\n",
       "      <td>S</td>\n",
       "    </tr>\n",
       "  </tbody>\n",
       "</table>\n",
       "</div>"
      ],
      "text/plain": [
       "   PassengerId  Survived  Pclass  \\\n",
       "0            1         0       3   \n",
       "1            2         1       1   \n",
       "2            3         1       3   \n",
       "3            4         1       1   \n",
       "4            5         0       3   \n",
       "\n",
       "                                                Name     Sex   Age  SibSp  \\\n",
       "0                            Braund, Mr. Owen Harris    male  22.0      1   \n",
       "1  Cumings, Mrs. John Bradley (Florence Briggs Th...  female  38.0      1   \n",
       "2                             Heikkinen, Miss. Laina  female  26.0      0   \n",
       "3       Futrelle, Mrs. Jacques Heath (Lily May Peel)  female  35.0      1   \n",
       "4                           Allen, Mr. William Henry    male  35.0      0   \n",
       "\n",
       "   Parch            Ticket     Fare Cabin Embarked  \n",
       "0      0         A/5 21171   7.2500   NaN        S  \n",
       "1      0          PC 17599  71.2833   C85        C  \n",
       "2      0  STON/O2. 3101282   7.9250   NaN        S  \n",
       "3      0            113803  53.1000  C123        S  \n",
       "4      0            373450   8.0500   NaN        S  "
      ]
     },
     "execution_count": 3,
     "metadata": {},
     "output_type": "execute_result"
    }
   ],
   "source": [
    "titanic.head()"
   ]
  },
  {
   "cell_type": "markdown",
   "id": "8fae5081",
   "metadata": {},
   "source": [
    "# How to manipulate textual data?\n",
    "\n",
    "Make all name characters lowercase."
   ]
  },
  {
   "cell_type": "code",
   "execution_count": 4,
   "id": "9b4caa60",
   "metadata": {},
   "outputs": [
    {
     "data": {
      "text/plain": [
       "0                                braund, mr. owen harris\n",
       "1      cumings, mrs. john bradley (florence briggs th...\n",
       "2                                 heikkinen, miss. laina\n",
       "3           futrelle, mrs. jacques heath (lily may peel)\n",
       "4                               allen, mr. william henry\n",
       "                             ...                        \n",
       "886                                montvila, rev. juozas\n",
       "887                         graham, miss. margaret edith\n",
       "888             johnston, miss. catherine helen \"carrie\"\n",
       "889                                behr, mr. karl howell\n",
       "890                                  dooley, mr. patrick\n",
       "Name: Name, Length: 891, dtype: object"
      ]
     },
     "execution_count": 4,
     "metadata": {},
     "output_type": "execute_result"
    }
   ],
   "source": [
    "titanic[\"Name\"].str.lower()"
   ]
  },
  {
   "cell_type": "markdown",
   "id": "316086e7",
   "metadata": {},
   "source": [
    "To make each of the strings in the Name column lowercase, select the Name column (see the tutorial on selection of data), add the str accessor and apply the lower method. As such, each of the strings is converted element-wise.\n",
    "\n",
    "Similar to datetime objects in the time series tutorial having a dt accessor, a number of specialized string methods are available when using the str accessor. These methods have in general matching names with the equivalent built-in string methods for single elements, but are applied element-wise (remember element-wise calculations?) on each of the values of the columns.\n",
    "\n",
    "Create a new column Surname that contains the surname of the passengers by extracting the part before the comma."
   ]
  },
  {
   "cell_type": "code",
   "execution_count": 5,
   "id": "f7e919bf",
   "metadata": {},
   "outputs": [
    {
     "data": {
      "text/plain": [
       "0                             [Braund,  Mr. Owen Harris]\n",
       "1      [Cumings,  Mrs. John Bradley (Florence Briggs ...\n",
       "2                              [Heikkinen,  Miss. Laina]\n",
       "3        [Futrelle,  Mrs. Jacques Heath (Lily May Peel)]\n",
       "4                            [Allen,  Mr. William Henry]\n",
       "                             ...                        \n",
       "886                             [Montvila,  Rev. Juozas]\n",
       "887                      [Graham,  Miss. Margaret Edith]\n",
       "888          [Johnston,  Miss. Catherine Helen \"Carrie\"]\n",
       "889                             [Behr,  Mr. Karl Howell]\n",
       "890                               [Dooley,  Mr. Patrick]\n",
       "Name: Name, Length: 891, dtype: object"
      ]
     },
     "execution_count": 5,
     "metadata": {},
     "output_type": "execute_result"
    }
   ],
   "source": [
    "titanic[\"Name\"].str.split(\",\")"
   ]
  },
  {
   "cell_type": "markdown",
   "id": "04dfb5b6",
   "metadata": {},
   "source": [
    "Using the Series.str.split() method, each of the values is returned as a list of 2 elements. The first element is the part before the comma and the second element is the part after the comma."
   ]
  },
  {
   "cell_type": "code",
   "execution_count": 7,
   "id": "c7e8a83f",
   "metadata": {},
   "outputs": [],
   "source": [
    "titanic[\"Surname\"] = titanic[\"Name\"].str.split(\",\").str.get(0)"
   ]
  },
  {
   "cell_type": "code",
   "execution_count": 8,
   "id": "3b1525b5",
   "metadata": {},
   "outputs": [
    {
     "data": {
      "text/plain": [
       "0         Braund\n",
       "1        Cumings\n",
       "2      Heikkinen\n",
       "3       Futrelle\n",
       "4          Allen\n",
       "         ...    \n",
       "886     Montvila\n",
       "887       Graham\n",
       "888     Johnston\n",
       "889         Behr\n",
       "890       Dooley\n",
       "Name: Surname, Length: 891, dtype: object"
      ]
     },
     "execution_count": 8,
     "metadata": {},
     "output_type": "execute_result"
    }
   ],
   "source": [
    "titanic[\"Surname\"]"
   ]
  },
  {
   "cell_type": "markdown",
   "id": "97204982",
   "metadata": {},
   "source": [
    "As we are only interested in the first part representing the surname (element 0), we can again use the str accessor and apply Series.str.get() to extract the relevant part. Indeed, these string functions can be concatenated to combine multiple functions at once!\n",
    "\n",
    "Extract the passenger data about the countesses on board of the Titanic."
   ]
  },
  {
   "cell_type": "code",
   "execution_count": 9,
   "id": "5fe13825",
   "metadata": {},
   "outputs": [
    {
     "data": {
      "text/plain": [
       "0      False\n",
       "1      False\n",
       "2      False\n",
       "3      False\n",
       "4      False\n",
       "       ...  \n",
       "886    False\n",
       "887    False\n",
       "888    False\n",
       "889    False\n",
       "890    False\n",
       "Name: Name, Length: 891, dtype: bool"
      ]
     },
     "execution_count": 9,
     "metadata": {},
     "output_type": "execute_result"
    }
   ],
   "source": [
    "titanic[\"Name\"].str.contains(\"Countess\")"
   ]
  },
  {
   "cell_type": "code",
   "execution_count": 10,
   "id": "80692877",
   "metadata": {},
   "outputs": [
    {
     "data": {
      "text/html": [
       "<div>\n",
       "<style scoped>\n",
       "    .dataframe tbody tr th:only-of-type {\n",
       "        vertical-align: middle;\n",
       "    }\n",
       "\n",
       "    .dataframe tbody tr th {\n",
       "        vertical-align: top;\n",
       "    }\n",
       "\n",
       "    .dataframe thead th {\n",
       "        text-align: right;\n",
       "    }\n",
       "</style>\n",
       "<table border=\"1\" class=\"dataframe\">\n",
       "  <thead>\n",
       "    <tr style=\"text-align: right;\">\n",
       "      <th></th>\n",
       "      <th>PassengerId</th>\n",
       "      <th>Survived</th>\n",
       "      <th>Pclass</th>\n",
       "      <th>Name</th>\n",
       "      <th>Sex</th>\n",
       "      <th>Age</th>\n",
       "      <th>SibSp</th>\n",
       "      <th>Parch</th>\n",
       "      <th>Ticket</th>\n",
       "      <th>Fare</th>\n",
       "      <th>Cabin</th>\n",
       "      <th>Embarked</th>\n",
       "      <th>Surename</th>\n",
       "      <th>Surname</th>\n",
       "    </tr>\n",
       "  </thead>\n",
       "  <tbody>\n",
       "    <tr>\n",
       "      <th>759</th>\n",
       "      <td>760</td>\n",
       "      <td>1</td>\n",
       "      <td>1</td>\n",
       "      <td>Rothes, the Countess. of (Lucy Noel Martha Dye...</td>\n",
       "      <td>female</td>\n",
       "      <td>33.0</td>\n",
       "      <td>0</td>\n",
       "      <td>0</td>\n",
       "      <td>110152</td>\n",
       "      <td>86.5</td>\n",
       "      <td>B77</td>\n",
       "      <td>S</td>\n",
       "      <td>Rothes</td>\n",
       "      <td>Rothes</td>\n",
       "    </tr>\n",
       "  </tbody>\n",
       "</table>\n",
       "</div>"
      ],
      "text/plain": [
       "     PassengerId  Survived  Pclass  \\\n",
       "759          760         1       1   \n",
       "\n",
       "                                                  Name     Sex   Age  SibSp  \\\n",
       "759  Rothes, the Countess. of (Lucy Noel Martha Dye...  female  33.0      0   \n",
       "\n",
       "     Parch  Ticket  Fare Cabin Embarked Surename Surname  \n",
       "759      0  110152  86.5   B77        S   Rothes  Rothes  "
      ]
     },
     "execution_count": 10,
     "metadata": {},
     "output_type": "execute_result"
    }
   ],
   "source": [
    "titanic[titanic[\"Name\"].str.contains(\"Countess\")]"
   ]
  },
  {
   "cell_type": "markdown",
   "id": "024cfee2",
   "metadata": {},
   "source": [
    "The string method Series.str.contains() checks for each of the values in the column Name if the string contains the word Countess and returns for each of the values True (Countess is part of the name) or False (Countess is not part of the name). This output can be used to subselect the data using conditional (boolean) indexing introduced in the subsetting of data tutorial. As there was only one countess on the Titanic, we get one row as a result.\n",
    "\n",
    "## **Note**\n",
    "More powerful extractions on strings are supported, as the Series.str.contains() and Series.str.extract() methods accept regular expressions, but out of scope of this tutorial.\n",
    "\n",
    "Which passenger of the Titanic has the longest name?"
   ]
  },
  {
   "cell_type": "code",
   "execution_count": 11,
   "id": "e4608bc9",
   "metadata": {},
   "outputs": [
    {
     "data": {
      "text/plain": [
       "0      23\n",
       "1      51\n",
       "2      22\n",
       "3      44\n",
       "4      24\n",
       "       ..\n",
       "886    21\n",
       "887    28\n",
       "888    40\n",
       "889    21\n",
       "890    19\n",
       "Name: Name, Length: 891, dtype: int64"
      ]
     },
     "execution_count": 11,
     "metadata": {},
     "output_type": "execute_result"
    }
   ],
   "source": [
    "titanic[\"Name\"].str.len()"
   ]
  },
  {
   "cell_type": "markdown",
   "id": "5e130f29",
   "metadata": {},
   "source": [
    "To get the longest name we first have to get the lengths of each of the names in the Name column. By using pandas string methods, the Series.str.len() function is applied to each of the names individually (element-wise)."
   ]
  },
  {
   "cell_type": "code",
   "execution_count": 12,
   "id": "d7e007dd",
   "metadata": {},
   "outputs": [
    {
     "data": {
      "text/plain": [
       "307"
      ]
     },
     "execution_count": 12,
     "metadata": {},
     "output_type": "execute_result"
    }
   ],
   "source": [
    "titanic[\"Name\"].str.len().idxmax()"
   ]
  },
  {
   "cell_type": "markdown",
   "id": "78e90fa5",
   "metadata": {},
   "source": [
    "Next, we need to get the corresponding location, preferably the index label, in the table for which the name length is the largest. The idxmax() method does exactly that. It is not a string method and is applied to integers, so no str is used."
   ]
  },
  {
   "cell_type": "code",
   "execution_count": 13,
   "id": "171a0e0d",
   "metadata": {},
   "outputs": [
    {
     "data": {
      "text/plain": [
       "'Penasco y Castellana, Mrs. Victor de Satode (Maria Josefa Perez de Soto y Vallejo)'"
      ]
     },
     "execution_count": 13,
     "metadata": {},
     "output_type": "execute_result"
    }
   ],
   "source": [
    "titanic.loc[titanic[\"Name\"].str.len().idxmax(), \"Name\"]"
   ]
  },
  {
   "cell_type": "markdown",
   "id": "bcae737c",
   "metadata": {},
   "source": [
    "Based on the index name of the row (307) and the column (Name), we can do a selection using the loc operator, introduced in the tutorial on subsetting.\n",
    "\n",
    "In the “Sex” column, replace values of “male” by “M” and values of “female” by “F”."
   ]
  },
  {
   "cell_type": "code",
   "execution_count": 14,
   "id": "f533f532",
   "metadata": {},
   "outputs": [],
   "source": [
    "titanic[\"Sex_short\"] = titanic[\"Sex\"].replace({\"male\": \"M\", \"female\": \"F\"})"
   ]
  },
  {
   "cell_type": "code",
   "execution_count": 15,
   "id": "b25237c7",
   "metadata": {},
   "outputs": [
    {
     "data": {
      "text/plain": [
       "0      M\n",
       "1      F\n",
       "2      F\n",
       "3      F\n",
       "4      M\n",
       "      ..\n",
       "886    M\n",
       "887    F\n",
       "888    F\n",
       "889    M\n",
       "890    M\n",
       "Name: Sex_short, Length: 891, dtype: object"
      ]
     },
     "execution_count": 15,
     "metadata": {},
     "output_type": "execute_result"
    }
   ],
   "source": [
    "titanic[\"Sex_short\"]"
   ]
  },
  {
   "cell_type": "markdown",
   "id": "1395aeb2",
   "metadata": {},
   "source": [
    "Whereas replace() is not a string method, it provides a convenient way to use mappings or vocabularies to translate certain values. It requires a dictionary to define the mapping {from : to}.\n",
    "\n",
    "**Warning**\n",
    "\n",
    "There is also a replace() method available to replace a specific set of characters. However, when having a mapping of multiple values, this would become:"
   ]
  },
  {
   "cell_type": "code",
   "execution_count": 16,
   "id": "1672047f",
   "metadata": {},
   "outputs": [],
   "source": [
    "titanic[\"Sex_short\"] = titanic[\"Sex\"].str.replace(\"female\", \"F\")"
   ]
  },
  {
   "cell_type": "code",
   "execution_count": 17,
   "id": "a37c340f",
   "metadata": {},
   "outputs": [],
   "source": [
    "titanic[\"Sex_short\"] = titanic[\"Sex_short\"].str.replace(\"male\", \"M\")"
   ]
  },
  {
   "cell_type": "markdown",
   "id": "ef554b63",
   "metadata": {},
   "source": [
    "This would become cumbersome and easily lead to mistakes. Just think (or try out yourself) what would happen if those two statements are applied in the opposite order…"
   ]
  }
 ],
 "metadata": {
  "kernelspec": {
   "display_name": "Python 3",
   "language": "python",
   "name": "python3"
  },
  "language_info": {
   "codemirror_mode": {
    "name": "ipython",
    "version": 3
   },
   "file_extension": ".py",
   "mimetype": "text/x-python",
   "name": "python",
   "nbconvert_exporter": "python",
   "pygments_lexer": "ipython3",
   "version": "3.8.8"
  }
 },
 "nbformat": 4,
 "nbformat_minor": 5
}
